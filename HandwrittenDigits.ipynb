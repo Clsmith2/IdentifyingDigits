{
  "nbformat": 4,
  "nbformat_minor": 0,
  "metadata": {
    "colab": {
      "provenance": []
    },
    "kernelspec": {
      "name": "python3",
      "display_name": "Python 3"
    },
    "language_info": {
      "name": "python"
    }
  },
  "cells": [
    {
      "cell_type": "markdown",
      "metadata": {
        "id": "7NbLKS_n-Hs6"
      },
      "source": [
        "\n",
        "Colin Smith"
      ]
    },
    {
      "cell_type": "markdown",
      "metadata": {
        "id": "sBXGDnU-pA0C"
      },
      "source": [
        "# Identifying [handwritten digits](https://scikit-learn.org/stable/modules/generated/sklearn.datasets.load_digits.html)\n",
        "\n",
        "The [Digits](https://scikit-learn.org/stable/modules/generated/sklearn.datasets.load_digits.html) dataset in [`sklearn`](https://scikit-learn.org/) has 1,797 samples with 64 numerical features ($8{\\times}8$ pixels) and a 10-class target variable representing the digits 0 through 9."
      ]
    },
    {
      "cell_type": "markdown",
      "metadata": {
        "id": "GGXW3rszFGhv"
      },
      "source": [
        "## Overview\n",
        "\n",
        "The following code gives you an idea of what the [Digits](https://scikit-learn.org/stable/modules/generated/sklearn.datasets.load_digits.html) dataset looks like:"
      ]
    },
    {
      "cell_type": "code",
      "metadata": {
        "colab": {
          "base_uri": "https://localhost:8080/",
          "height": 523
        },
        "id": "JsrOkwqz8yNP",
        "outputId": "f630b665-8531-4521-c8d0-bab871bf66cb"
      },
      "source": [
        "from sklearn.datasets import load_digits\n",
        "import pandas as pd\n",
        "import seaborn as sns; sns.set()\n",
        "import matplotlib.pyplot as plt\n",
        "\n",
        "# Load the Digits dataset\n",
        "digits = load_digits()\n",
        "\n",
        "X = digits.data\n",
        "y = digits.target\n",
        "\n",
        "# Check shape of X\n",
        "print( 'X.shape =', X.shape )\n",
        "\n",
        "# Each image is 8px by 8px that's why 64 pixels\n",
        "print( '\\ndigits.images[4] =' )\n",
        "print( digits.images[4] )\n",
        "\n",
        "# Let's check a particular target value\n",
        "print( '\\ny[59] =', y[59] )\n",
        "\n",
        "# Next, let's see how the image looks like\n",
        "plt.gray()\n",
        "plt.matshow(digits.images[59])\n",
        "plt.show()"
      ],
      "execution_count": null,
      "outputs": [
        {
          "output_type": "stream",
          "name": "stdout",
          "text": [
            "X.shape = (1797, 64)\n",
            "\n",
            "digits.images[4] =\n",
            "[[ 0.  0.  0.  1. 11.  0.  0.  0.]\n",
            " [ 0.  0.  0.  7.  8.  0.  0.  0.]\n",
            " [ 0.  0.  1. 13.  6.  2.  2.  0.]\n",
            " [ 0.  0.  7. 15.  0.  9.  8.  0.]\n",
            " [ 0.  5. 16. 10.  0. 16.  6.  0.]\n",
            " [ 0.  4. 15. 16. 13. 16.  1.  0.]\n",
            " [ 0.  0.  0.  3. 15. 10.  0.  0.]\n",
            " [ 0.  0.  0.  2. 16.  4.  0.  0.]]\n",
            "\n",
            "y[59] = 3\n"
          ]
        },
        {
          "output_type": "display_data",
          "data": {
            "text/plain": [
              "<Figure size 432x288 with 0 Axes>"
            ]
          },
          "metadata": {}
        },
        {
          "output_type": "display_data",
          "data": {
            "text/plain": [
              "<Figure size 288x288 with 1 Axes>"
            ],
            "image/png": "[encoded data removed]"
          },
          "metadata": {}
        }
      ]
    },
    {
      "cell_type": "markdown",
      "metadata": {
        "id": "Dn46_TDbrIf1"
      },
      "source": [
        "### Notebook setup"
      ]
    },
    {
      "cell_type": "code",
      "metadata": {
        "id": "RyARywZ7rSvx"
      },
      "source": [
        "from sklearn import datasets\n",
        "from sklearn.model_selection import train_test_split\n",
        "import time\n",
        "\n",
        "# Load the Digits dataset\n",
        "digits = datasets.load_digits()\n",
        "\n",
        "# To apply an estimator (classifier) on this data, we flatten the image,\n",
        "# to transform the data into a (samples, feature) matrix:\n",
        "n_samples = len(digits.images)\n",
        "X = digits.images.reshape((n_samples, -1))\n",
        "y = digits.target\n",
        "\n",
        "# Split the dataset in two equal parts\n",
        "X_train, X_test, y_train, y_test = train_test_split(\n",
        "    X ,             # (samples,features) matrix\n",
        "    y ,             # target values\n",
        "    test_size=0.25 , # 50-50 split\n",
        "    random_state=int(time.time())\n",
        "    )"
      ],
      "execution_count": null,
      "outputs": []
    },
    {
      "cell_type": "markdown",
      "metadata": {
        "id": "trmI8kqnwI5H"
      },
      "source": [
        "## Part 1: Classification using a support vector machine\n",
        "\n",
        "Generate a classification system for this problem using a *Support Vector Machine (SVM)*.\n"
      ]
    },
    {
      "cell_type": "markdown",
      "metadata": {
        "id": "j1yzB1fyxATO"
      },
      "source": [
        "### Solution"
      ]
    },
    {
      "cell_type": "markdown",
      "source": [
        "Use GridSearchCV to find the best parameters for percision and recall and then run the SVM model on the best parameters displaying the metrics"
      ],
      "metadata": {
        "id": "mjJ-0_WUM4ZU"
      }
    },
    {
      "cell_type": "code",
      "source": [
        "from sklearn.model_selection import GridSearchCV\n",
        "from sklearn.metrics import classification_report\n",
        "from sklearn.svm import SVC\n",
        "from sklearn import svm\n",
        "import time\n",
        "results = []\n",
        "\n",
        "# Set the parameters by cross-validation\n",
        "tuned_parameters = [\n",
        "    {\"kernel\": [\"rbf\"],\n",
        "        \"gamma\": [1e-3, 1e-4],\n",
        "        \"C\": [1, 10, 100, 1000]\n",
        "        },\n",
        "    {\"kernel\": [\"linear\"],\n",
        "        \"C\": [1, 10, 100, 1000]\n",
        "        },\n",
        "]\n",
        "\n",
        "scores = [ \"precision\" , \"recall\" ]\n",
        "\n",
        "for score in scores:\n",
        "    print(\"# Tuning hyper-parameters for %s\" % score)\n",
        "    print()\n",
        "\n",
        "    clf = GridSearchCV( SVC() ,\n",
        "                        tuned_parameters ,\n",
        "                        scoring=\"%s_macro\" % score\n",
        "                      )\n",
        "    clf.fit( X_train , y_train )\n",
        "\n",
        "    print(\"Best parameters set found on development set:\")\n",
        "    print()\n",
        "    print(clf.best_params_)\n",
        "    print()\n",
        "    print(\"Grid scores on development set:\")\n",
        "    print()\n",
        "    means = clf.cv_results_[\"mean_test_score\"]\n",
        "    stds = clf.cv_results_[\"std_test_score\"]\n",
        "    for mean, std, params in zip(means, stds, clf.cv_results_[\"params\"]):\n",
        "        print(\"%0.4f (+/-%0.04f) for %r\" % (mean, std * 2, params))\n",
        "    print()\n",
        "\n",
        "    print(\"Detailed classification report:\")\n",
        "    print()\n",
        "    print(\"The model is trained on the full development set.\")\n",
        "    print(\"The scores are computed on the full evaluation set.\")\n",
        "    print()\n",
        "    y_true, y_pred = y_test, clf.predict(X_test)\n",
        "    print(classification_report(y_true, y_pred, digits = 4))\n",
        "    print()"
      ],
      "metadata": {
        "colab": {
          "base_uri": "https://localhost:8080/"
        },
        "id": "kHGqF-0oLC4H",
        "outputId": "6dbf0954-9a80-4b96-82e8-390db99655bb"
      },
      "execution_count": null,
      "outputs": [
        {
          "output_type": "stream",
          "name": "stdout",
          "text": [
            "# Tuning hyper-parameters for precision\n",
            "\n",
            "Best parameters set found on development set:\n",
            "\n",
            "{'C': 10, 'gamma': 0.001, 'kernel': 'rbf'}\n",
            "\n",
            "Grid scores on development set:\n",
            "\n",
            "0.9892 (+/-0.0105) for {'C': 1, 'gamma': 0.001, 'kernel': 'rbf'}\n",
            "0.9695 (+/-0.0137) for {'C': 1, 'gamma': 0.0001, 'kernel': 'rbf'}\n",
            "0.9901 (+/-0.0071) for {'C': 10, 'gamma': 0.001, 'kernel': 'rbf'}\n",
            "0.9866 (+/-0.0157) for {'C': 10, 'gamma': 0.0001, 'kernel': 'rbf'}\n",
            "0.9901 (+/-0.0071) for {'C': 100, 'gamma': 0.001, 'kernel': 'rbf'}\n",
            "0.9880 (+/-0.0069) for {'C': 100, 'gamma': 0.0001, 'kernel': 'rbf'}\n",
            "0.9901 (+/-0.0071) for {'C': 1000, 'gamma': 0.001, 'kernel': 'rbf'}\n",
            "0.9880 (+/-0.0069) for {'C': 1000, 'gamma': 0.0001, 'kernel': 'rbf'}\n",
            "0.9773 (+/-0.0107) for {'C': 1, 'kernel': 'linear'}\n",
            "0.9773 (+/-0.0107) for {'C': 10, 'kernel': 'linear'}\n",
            "0.9773 (+/-0.0107) for {'C': 100, 'kernel': 'linear'}\n",
            "0.9773 (+/-0.0107) for {'C': 1000, 'kernel': 'linear'}\n",
            "\n",
            "Detailed classification report:\n",
            "\n",
            "The model is trained on the full development set.\n",
            "The scores are computed on the full evaluation set.\n",
            "\n",
            "              precision    recall  f1-score   support\n",
            "\n",
            "           0     1.0000    1.0000    1.0000        43\n",
            "           1     0.9792    1.0000    0.9895        47\n",
            "           2     1.0000    1.0000    1.0000        48\n",
            "           3     1.0000    1.0000    1.0000        54\n",
            "           4     1.0000    1.0000    1.0000        41\n",
            "           5     0.9767    0.9767    0.9767        43\n",
            "           6     1.0000    0.9787    0.9892        47\n",
            "           7     1.0000    1.0000    1.0000        44\n",
            "           8     1.0000    1.0000    1.0000        42\n",
            "           9     0.9756    0.9756    0.9756        41\n",
            "\n",
            "    accuracy                         0.9933       450\n",
            "   macro avg     0.9932    0.9931    0.9931       450\n",
            "weighted avg     0.9934    0.9933    0.9933       450\n",
            "\n",
            "\n",
            "# Tuning hyper-parameters for recall\n",
            "\n",
            "Best parameters set found on development set:\n",
            "\n",
            "{'C': 10, 'gamma': 0.001, 'kernel': 'rbf'}\n",
            "\n",
            "Grid scores on development set:\n",
            "\n",
            "0.9889 (+/-0.0105) for {'C': 1, 'gamma': 0.001, 'kernel': 'rbf'}\n",
            "0.9679 (+/-0.0137) for {'C': 1, 'gamma': 0.0001, 'kernel': 'rbf'}\n",
            "0.9897 (+/-0.0072) for {'C': 10, 'gamma': 0.001, 'kernel': 'rbf'}\n",
            "0.9858 (+/-0.0168) for {'C': 10, 'gamma': 0.0001, 'kernel': 'rbf'}\n",
            "0.9897 (+/-0.0072) for {'C': 100, 'gamma': 0.001, 'kernel': 'rbf'}\n",
            "0.9874 (+/-0.0079) for {'C': 100, 'gamma': 0.0001, 'kernel': 'rbf'}\n",
            "0.9897 (+/-0.0072) for {'C': 1000, 'gamma': 0.001, 'kernel': 'rbf'}\n",
            "0.9874 (+/-0.0079) for {'C': 1000, 'gamma': 0.0001, 'kernel': 'rbf'}\n",
            "0.9762 (+/-0.0111) for {'C': 1, 'kernel': 'linear'}\n",
            "0.9762 (+/-0.0111) for {'C': 10, 'kernel': 'linear'}\n",
            "0.9762 (+/-0.0111) for {'C': 100, 'kernel': 'linear'}\n",
            "0.9762 (+/-0.0111) for {'C': 1000, 'kernel': 'linear'}\n",
            "\n",
            "Detailed classification report:\n",
            "\n",
            "The model is trained on the full development set.\n",
            "The scores are computed on the full evaluation set.\n",
            "\n",
            "              precision    recall  f1-score   support\n",
            "\n",
            "           0     1.0000    1.0000    1.0000        43\n",
            "           1     0.9792    1.0000    0.9895        47\n",
            "           2     1.0000    1.0000    1.0000        48\n",
            "           3     1.0000    1.0000    1.0000        54\n",
            "           4     1.0000    1.0000    1.0000        41\n",
            "           5     0.9767    0.9767    0.9767        43\n",
            "           6     1.0000    0.9787    0.9892        47\n",
            "           7     1.0000    1.0000    1.0000        44\n",
            "           8     1.0000    1.0000    1.0000        42\n",
            "           9     0.9756    0.9756    0.9756        41\n",
            "\n",
            "    accuracy                         0.9933       450\n",
            "   macro avg     0.9932    0.9931    0.9931       450\n",
            "weighted avg     0.9934    0.9933    0.9933       450\n",
            "\n",
            "\n"
          ]
        }
      ]
    },
    {
      "cell_type": "markdown",
      "source": [
        "Lets see what it predicted vs what it was supposed to be"
      ],
      "metadata": {
        "id": "TN-4a8eIk8Oj"
      }
    },
    {
      "cell_type": "code",
      "source": [
        "import seaborn as sn\n",
        "from sklearn.metrics import confusion_matrix\n",
        "mat = confusion_matrix(y_true, y_pred)\n",
        "sns.heatmap(mat, square=True, annot=True, fmt='d', cbar=False, cmap='cividis')\n",
        "plt.xlabel('predicted number')\n",
        "plt.ylabel('actual number');"
      ],
      "metadata": {
        "colab": {
          "base_uri": "https://localhost:8080/",
          "height": 285
        },
        "id": "o1jUWFw_g4Wh",
        "outputId": "5b8e23f4-5988-4929-e0ad-0cd0e3462f40"
      },
      "execution_count": null,
      "outputs": [
        {
          "output_type": "display_data",
          "data": {
            "text/plain": [
              "<Figure size 432x288 with 1 Axes>"
            ],
            "image/png": "[encoded data removed]"
          },
          "metadata": {
            "needs_background": "light"
          }
        }
      ]
    },
    {
      "cell_type": "markdown",
      "source": [
        "This model did very good reaching over 99% only missing 3 predicitons"
      ],
      "metadata": {
        "id": "XCLghEW5Rpg6"
      }
    },
    {
      "cell_type": "markdown",
      "metadata": {
        "id": "uu-_P-SDjFPH"
      },
      "source": [
        "## Part 2: Classification using multinomial logistic regression\n",
        "\n",
        "Generate a classification system for this problem using *multinomial Logistic Regression*.\n"
      ]
    },
    {
      "cell_type": "markdown",
      "metadata": {
        "id": "uj8u3s-VqQCr"
      },
      "source": [
        "### Solution"
      ]
    },
    {
      "cell_type": "code",
      "source": [
        "from sklearn.linear_model import LogisticRegression\n",
        "import warnings\n",
        "warnings.filterwarnings(\"ignore\")\n",
        "tuned_parameters = [\n",
        "    {   \"solver\":['saga'],\n",
        "        \"penalty\": [\"l1\", \"l2\"],\n",
        "        \"max_iter\": [1, 10, 100, 100],\n",
        "        \"C\": [1, 10, 100, 1000]\n",
        "        },\n",
        "    {   \"solver\":['newton-cg'],\n",
        "        \"penalty\": [\"l2\", 'none'],\n",
        "        \"max_iter\": [1, 10, 100, 100],\n",
        "        \"C\": [1, 10, 100, 1000]\n",
        "        },\n",
        "    {   \"solver\":['sag'],\n",
        "        \"penalty\": [\"l2\", 'none'],\n",
        "        \"max_iter\": [1, 10, 100, 100],\n",
        "        \"C\": [1, 10, 100, 1000]\n",
        "        }\n",
        "]\n",
        "\n",
        "scores = [ \"precision\" , \"recall\" ]\n",
        "for score in scores:\n",
        "    print(\"# Tuning hyper-parameters for %s\" % score)\n",
        "    print()\n",
        "    clf = GridSearchCV( LogisticRegression(multi_class='multinomial') ,\n",
        "                        tuned_parameters ,\n",
        "                        scoring=\"%s_macro\" % score\n",
        "                      )\n",
        "    clf.fit( X_train , y_train )\n",
        "\n",
        "    print(\"Best parameters set found on development set:\")\n",
        "    print()\n",
        "    print(clf.best_params_)\n",
        "    print()\n",
        "    print(\"Grid scores on development set:\")\n",
        "    print()\n",
        "    means = clf.cv_results_[\"mean_test_score\"]\n",
        "    stds = clf.cv_results_[\"std_test_score\"]\n",
        "    for mean, std, params in zip(means, stds, clf.cv_results_[\"params\"]):\n",
        "        print(\"%0.4f (+/-%0.04f) for %r\" % (mean, std * 2, params))\n",
        "    print()\n",
        "\n",
        "    print(\"Detailed classification report:\")\n",
        "    print()\n",
        "    print(\"The model is trained on the full development set.\")\n",
        "    print(\"The scores are computed on the full evaluation set.\")\n",
        "    print()\n",
        "    y_true, y_pred = y_test, clf.predict(X_test)\n",
        "    print(classification_report(y_true, y_pred, digits = 4))\n",
        "    print()\n"
      ],
      "metadata": {
        "colab": {
          "base_uri": "https://localhost:8080/"
        },
        "id": "zxH6krMWRjlw",
        "outputId": "954f904b-5b64-4cfc-a575-42c22542d751"
      },
      "execution_count": null,
      "outputs": [
        {
          "output_type": "stream",
          "name": "stdout",
          "text": [
            "# Tuning hyper-parameters for precision\n",
            "\n",
            "Best parameters set found on development set:\n",
            "\n",
            "{'C': 1, 'max_iter': 100, 'penalty': 'none', 'solver': 'sag'}\n",
            "\n",
            "Grid scores on development set:\n",
            "\n",
            "0.9335 (+/-0.0201) for {'C': 1, 'max_iter': 1, 'penalty': 'l1', 'solver': 'saga'}\n",
            "0.9420 (+/-0.0085) for {'C': 1, 'max_iter': 1, 'penalty': 'l2', 'solver': 'saga'}\n",
            "0.9623 (+/-0.0177) for {'C': 1, 'max_iter': 10, 'penalty': 'l1', 'solver': 'saga'}\n",
            "0.9658 (+/-0.0160) for {'C': 1, 'max_iter': 10, 'penalty': 'l2', 'solver': 'saga'}\n",
            "0.9713 (+/-0.0126) for {'C': 1, 'max_iter': 100, 'penalty': 'l1', 'solver': 'saga'}\n",
            "0.9714 (+/-0.0125) for {'C': 1, 'max_iter': 100, 'penalty': 'l2', 'solver': 'saga'}\n",
            "0.9706 (+/-0.0131) for {'C': 1, 'max_iter': 100, 'penalty': 'l1', 'solver': 'saga'}\n",
            "0.9706 (+/-0.0110) for {'C': 1, 'max_iter': 100, 'penalty': 'l2', 'solver': 'saga'}\n",
            "0.9374 (+/-0.0166) for {'C': 10, 'max_iter': 1, 'penalty': 'l1', 'solver': 'saga'}\n",
            "0.9313 (+/-0.0299) for {'C': 10, 'max_iter': 1, 'penalty': 'l2', 'solver': 'saga'}\n",
            "0.9644 (+/-0.0149) for {'C': 10, 'max_iter': 10, 'penalty': 'l1', 'solver': 'saga'}\n",
            "0.9614 (+/-0.0200) for {'C': 10, 'max_iter': 10, 'penalty': 'l2', 'solver': 'saga'}\n",
            "0.9714 (+/-0.0123) for {'C': 10, 'max_iter': 100, 'penalty': 'l1', 'solver': 'saga'}\n",
            "0.9707 (+/-0.0128) for {'C': 10, 'max_iter': 100, 'penalty': 'l2', 'solver': 'saga'}\n",
            "0.9714 (+/-0.0125) for {'C': 10, 'max_iter': 100, 'penalty': 'l1', 'solver': 'saga'}\n",
            "0.9700 (+/-0.0119) for {'C': 10, 'max_iter': 100, 'penalty': 'l2', 'solver': 'saga'}\n",
            "0.9400 (+/-0.0176) for {'C': 100, 'max_iter': 1, 'penalty': 'l1', 'solver': 'saga'}\n",
            "0.9334 (+/-0.0179) for {'C': 100, 'max_iter': 1, 'penalty': 'l2', 'solver': 'saga'}\n",
            "0.9645 (+/-0.0182) for {'C': 100, 'max_iter': 10, 'penalty': 'l1', 'solver': 'saga'}\n",
            "0.9631 (+/-0.0132) for {'C': 100, 'max_iter': 10, 'penalty': 'l2', 'solver': 'saga'}\n",
            "0.9699 (+/-0.0098) for {'C': 100, 'max_iter': 100, 'penalty': 'l1', 'solver': 'saga'}\n",
            "0.9707 (+/-0.0109) for {'C': 100, 'max_iter': 100, 'penalty': 'l2', 'solver': 'saga'}\n",
            "0.9714 (+/-0.0125) for {'C': 100, 'max_iter': 100, 'penalty': 'l1', 'solver': 'saga'}\n",
            "0.9701 (+/-0.0117) for {'C': 100, 'max_iter': 100, 'penalty': 'l2', 'solver': 'saga'}\n",
            "0.9338 (+/-0.0159) for {'C': 1000, 'max_iter': 1, 'penalty': 'l1', 'solver': 'saga'}\n",
            "0.9341 (+/-0.0157) for {'C': 1000, 'max_iter': 1, 'penalty': 'l2', 'solver': 'saga'}\n",
            "0.9644 (+/-0.0149) for {'C': 1000, 'max_iter': 10, 'penalty': 'l1', 'solver': 'saga'}\n",
            "0.9631 (+/-0.0141) for {'C': 1000, 'max_iter': 10, 'penalty': 'l2', 'solver': 'saga'}\n",
            "0.9700 (+/-0.0110) for {'C': 1000, 'max_iter': 100, 'penalty': 'l1', 'solver': 'saga'}\n",
            "0.9715 (+/-0.0108) for {'C': 1000, 'max_iter': 100, 'penalty': 'l2', 'solver': 'saga'}\n",
            "0.9712 (+/-0.0111) for {'C': 1000, 'max_iter': 100, 'penalty': 'l1', 'solver': 'saga'}\n",
            "0.9706 (+/-0.0130) for {'C': 1000, 'max_iter': 100, 'penalty': 'l2', 'solver': 'saga'}\n",
            "0.8715 (+/-0.0145) for {'C': 1, 'max_iter': 1, 'penalty': 'l2', 'solver': 'newton-cg'}\n",
            "0.8715 (+/-0.0145) for {'C': 1, 'max_iter': 1, 'penalty': 'none', 'solver': 'newton-cg'}\n",
            "0.9678 (+/-0.0128) for {'C': 1, 'max_iter': 10, 'penalty': 'l2', 'solver': 'newton-cg'}\n",
            "0.9675 (+/-0.0097) for {'C': 1, 'max_iter': 10, 'penalty': 'none', 'solver': 'newton-cg'}\n",
            "0.9660 (+/-0.0150) for {'C': 1, 'max_iter': 100, 'penalty': 'l2', 'solver': 'newton-cg'}\n",
            "0.9606 (+/-0.0102) for {'C': 1, 'max_iter': 100, 'penalty': 'none', 'solver': 'newton-cg'}\n",
            "0.9660 (+/-0.0150) for {'C': 1, 'max_iter': 100, 'penalty': 'l2', 'solver': 'newton-cg'}\n",
            "0.9606 (+/-0.0102) for {'C': 1, 'max_iter': 100, 'penalty': 'none', 'solver': 'newton-cg'}\n",
            "0.8715 (+/-0.0145) for {'C': 10, 'max_iter': 1, 'penalty': 'l2', 'solver': 'newton-cg'}\n",
            "0.8715 (+/-0.0145) for {'C': 10, 'max_iter': 1, 'penalty': 'none', 'solver': 'newton-cg'}\n",
            "0.9675 (+/-0.0097) for {'C': 10, 'max_iter': 10, 'penalty': 'l2', 'solver': 'newton-cg'}\n",
            "0.9675 (+/-0.0097) for {'C': 10, 'max_iter': 10, 'penalty': 'none', 'solver': 'newton-cg'}\n",
            "0.9643 (+/-0.0125) for {'C': 10, 'max_iter': 100, 'penalty': 'l2', 'solver': 'newton-cg'}\n",
            "0.9606 (+/-0.0102) for {'C': 10, 'max_iter': 100, 'penalty': 'none', 'solver': 'newton-cg'}\n",
            "0.9643 (+/-0.0125) for {'C': 10, 'max_iter': 100, 'penalty': 'l2', 'solver': 'newton-cg'}\n",
            "0.9606 (+/-0.0102) for {'C': 10, 'max_iter': 100, 'penalty': 'none', 'solver': 'newton-cg'}\n",
            "0.8715 (+/-0.0145) for {'C': 100, 'max_iter': 1, 'penalty': 'l2', 'solver': 'newton-cg'}\n",
            "0.8715 (+/-0.0145) for {'C': 100, 'max_iter': 1, 'penalty': 'none', 'solver': 'newton-cg'}\n",
            "0.9684 (+/-0.0102) for {'C': 100, 'max_iter': 10, 'penalty': 'l2', 'solver': 'newton-cg'}\n",
            "0.9675 (+/-0.0097) for {'C': 100, 'max_iter': 10, 'penalty': 'none', 'solver': 'newton-cg'}\n",
            "0.9636 (+/-0.0130) for {'C': 100, 'max_iter': 100, 'penalty': 'l2', 'solver': 'newton-cg'}\n",
            "0.9606 (+/-0.0102) for {'C': 100, 'max_iter': 100, 'penalty': 'none', 'solver': 'newton-cg'}\n",
            "0.9636 (+/-0.0130) for {'C': 100, 'max_iter': 100, 'penalty': 'l2', 'solver': 'newton-cg'}\n",
            "0.9606 (+/-0.0102) for {'C': 100, 'max_iter': 100, 'penalty': 'none', 'solver': 'newton-cg'}\n",
            "0.8715 (+/-0.0145) for {'C': 1000, 'max_iter': 1, 'penalty': 'l2', 'solver': 'newton-cg'}\n",
            "0.8715 (+/-0.0145) for {'C': 1000, 'max_iter': 1, 'penalty': 'none', 'solver': 'newton-cg'}\n",
            "0.9675 (+/-0.0097) for {'C': 1000, 'max_iter': 10, 'penalty': 'l2', 'solver': 'newton-cg'}\n",
            "0.9675 (+/-0.0097) for {'C': 1000, 'max_iter': 10, 'penalty': 'none', 'solver': 'newton-cg'}\n",
            "0.9650 (+/-0.0141) for {'C': 1000, 'max_iter': 100, 'penalty': 'l2', 'solver': 'newton-cg'}\n",
            "0.9606 (+/-0.0102) for {'C': 1000, 'max_iter': 100, 'penalty': 'none', 'solver': 'newton-cg'}\n",
            "0.9650 (+/-0.0141) for {'C': 1000, 'max_iter': 100, 'penalty': 'l2', 'solver': 'newton-cg'}\n",
            "0.9606 (+/-0.0102) for {'C': 1000, 'max_iter': 100, 'penalty': 'none', 'solver': 'newton-cg'}\n",
            "0.9112 (+/-0.0282) for {'C': 1, 'max_iter': 1, 'penalty': 'l2', 'solver': 'sag'}\n",
            "0.8977 (+/-0.0386) for {'C': 1, 'max_iter': 1, 'penalty': 'none', 'solver': 'sag'}\n",
            "0.9666 (+/-0.0099) for {'C': 1, 'max_iter': 10, 'penalty': 'l2', 'solver': 'sag'}\n",
            "0.9604 (+/-0.0187) for {'C': 1, 'max_iter': 10, 'penalty': 'none', 'solver': 'sag'}\n",
            "0.9700 (+/-0.0174) for {'C': 1, 'max_iter': 100, 'penalty': 'l2', 'solver': 'sag'}\n",
            "0.9715 (+/-0.0154) for {'C': 1, 'max_iter': 100, 'penalty': 'none', 'solver': 'sag'}\n",
            "0.9699 (+/-0.0149) for {'C': 1, 'max_iter': 100, 'penalty': 'l2', 'solver': 'sag'}\n",
            "0.9689 (+/-0.0174) for {'C': 1, 'max_iter': 100, 'penalty': 'none', 'solver': 'sag'}\n",
            "0.9019 (+/-0.0241) for {'C': 10, 'max_iter': 1, 'penalty': 'l2', 'solver': 'sag'}\n",
            "0.9194 (+/-0.0301) for {'C': 10, 'max_iter': 1, 'penalty': 'none', 'solver': 'sag'}\n",
            "0.9570 (+/-0.0257) for {'C': 10, 'max_iter': 10, 'penalty': 'l2', 'solver': 'sag'}\n",
            "0.9608 (+/-0.0221) for {'C': 10, 'max_iter': 10, 'penalty': 'none', 'solver': 'sag'}\n",
            "0.9713 (+/-0.0128) for {'C': 10, 'max_iter': 100, 'penalty': 'l2', 'solver': 'sag'}\n",
            "0.9677 (+/-0.0139) for {'C': 10, 'max_iter': 100, 'penalty': 'none', 'solver': 'sag'}\n",
            "0.9699 (+/-0.0126) for {'C': 10, 'max_iter': 100, 'penalty': 'l2', 'solver': 'sag'}\n",
            "0.9683 (+/-0.0155) for {'C': 10, 'max_iter': 100, 'penalty': 'none', 'solver': 'sag'}\n",
            "0.8975 (+/-0.0353) for {'C': 100, 'max_iter': 1, 'penalty': 'l2', 'solver': 'sag'}\n",
            "0.9074 (+/-0.0426) for {'C': 100, 'max_iter': 1, 'penalty': 'none', 'solver': 'sag'}\n",
            "0.9601 (+/-0.0242) for {'C': 100, 'max_iter': 10, 'penalty': 'l2', 'solver': 'sag'}\n",
            "0.9593 (+/-0.0192) for {'C': 100, 'max_iter': 10, 'penalty': 'none', 'solver': 'sag'}\n",
            "0.9692 (+/-0.0104) for {'C': 100, 'max_iter': 100, 'penalty': 'l2', 'solver': 'sag'}\n",
            "0.9686 (+/-0.0105) for {'C': 100, 'max_iter': 100, 'penalty': 'none', 'solver': 'sag'}\n",
            "0.9701 (+/-0.0146) for {'C': 100, 'max_iter': 100, 'penalty': 'l2', 'solver': 'sag'}\n",
            "0.9683 (+/-0.0146) for {'C': 100, 'max_iter': 100, 'penalty': 'none', 'solver': 'sag'}\n",
            "0.9085 (+/-0.0266) for {'C': 1000, 'max_iter': 1, 'penalty': 'l2', 'solver': 'sag'}\n",
            "0.9104 (+/-0.0329) for {'C': 1000, 'max_iter': 1, 'penalty': 'none', 'solver': 'sag'}\n",
            "0.9617 (+/-0.0177) for {'C': 1000, 'max_iter': 10, 'penalty': 'l2', 'solver': 'sag'}\n",
            "0.9620 (+/-0.0188) for {'C': 1000, 'max_iter': 10, 'penalty': 'none', 'solver': 'sag'}\n",
            "0.9693 (+/-0.0175) for {'C': 1000, 'max_iter': 100, 'penalty': 'l2', 'solver': 'sag'}\n",
            "0.9663 (+/-0.0091) for {'C': 1000, 'max_iter': 100, 'penalty': 'none', 'solver': 'sag'}\n",
            "0.9677 (+/-0.0167) for {'C': 1000, 'max_iter': 100, 'penalty': 'l2', 'solver': 'sag'}\n",
            "0.9698 (+/-0.0120) for {'C': 1000, 'max_iter': 100, 'penalty': 'none', 'solver': 'sag'}\n",
            "\n",
            "Detailed classification report:\n",
            "\n",
            "The model is trained on the full development set.\n",
            "The scores are computed on the full evaluation set.\n",
            "\n",
            "              precision    recall  f1-score   support\n",
            "\n",
            "           0     1.0000    1.0000    1.0000        43\n",
            "           1     0.9216    1.0000    0.9592        47\n",
            "           2     0.9787    0.9583    0.9684        48\n",
            "           3     0.9643    1.0000    0.9818        54\n",
            "           4     1.0000    0.9268    0.9620        41\n",
            "           5     0.9762    0.9535    0.9647        43\n",
            "           6     1.0000    0.9787    0.9892        47\n",
            "           7     0.9767    0.9545    0.9655        44\n",
            "           8     1.0000    0.9286    0.9630        42\n",
            "           9     0.8889    0.9756    0.9302        41\n",
            "\n",
            "    accuracy                         0.9689       450\n",
            "   macro avg     0.9706    0.9676    0.9684       450\n",
            "weighted avg     0.9706    0.9689    0.9690       450\n",
            "\n",
            "\n",
            "# Tuning hyper-parameters for recall\n",
            "\n",
            "Best parameters set found on development set:\n",
            "\n",
            "{'C': 10, 'max_iter': 100, 'penalty': 'l1', 'solver': 'saga'}\n",
            "\n",
            "Grid scores on development set:\n",
            "\n",
            "0.9170 (+/-0.0345) for {'C': 1, 'max_iter': 1, 'penalty': 'l1', 'solver': 'saga'}\n",
            "0.9279 (+/-0.0328) for {'C': 1, 'max_iter': 1, 'penalty': 'l2', 'solver': 'saga'}\n",
            "0.9623 (+/-0.0187) for {'C': 1, 'max_iter': 10, 'penalty': 'l1', 'solver': 'saga'}\n",
            "0.9631 (+/-0.0116) for {'C': 1, 'max_iter': 10, 'penalty': 'l2', 'solver': 'saga'}\n",
            "0.9689 (+/-0.0129) for {'C': 1, 'max_iter': 100, 'penalty': 'l1', 'solver': 'saga'}\n",
            "0.9681 (+/-0.0076) for {'C': 1, 'max_iter': 100, 'penalty': 'l2', 'solver': 'saga'}\n",
            "0.9689 (+/-0.0129) for {'C': 1, 'max_iter': 100, 'penalty': 'l1', 'solver': 'saga'}\n",
            "0.9689 (+/-0.0129) for {'C': 1, 'max_iter': 100, 'penalty': 'l2', 'solver': 'saga'}\n",
            "0.9299 (+/-0.0158) for {'C': 10, 'max_iter': 1, 'penalty': 'l1', 'solver': 'saga'}\n",
            "0.9352 (+/-0.0259) for {'C': 10, 'max_iter': 1, 'penalty': 'l2', 'solver': 'saga'}\n",
            "0.9622 (+/-0.0159) for {'C': 10, 'max_iter': 10, 'penalty': 'l1', 'solver': 'saga'}\n",
            "0.9630 (+/-0.0191) for {'C': 10, 'max_iter': 10, 'penalty': 'l2', 'solver': 'saga'}\n",
            "0.9696 (+/-0.0128) for {'C': 10, 'max_iter': 100, 'penalty': 'l1', 'solver': 'saga'}\n",
            "0.9689 (+/-0.0129) for {'C': 10, 'max_iter': 100, 'penalty': 'l2', 'solver': 'saga'}\n",
            "0.9696 (+/-0.0128) for {'C': 10, 'max_iter': 100, 'penalty': 'l1', 'solver': 'saga'}\n",
            "0.9689 (+/-0.0129) for {'C': 10, 'max_iter': 100, 'penalty': 'l2', 'solver': 'saga'}\n",
            "0.9306 (+/-0.0306) for {'C': 100, 'max_iter': 1, 'penalty': 'l1', 'solver': 'saga'}\n",
            "0.9339 (+/-0.0199) for {'C': 100, 'max_iter': 1, 'penalty': 'l2', 'solver': 'saga'}\n",
            "0.9615 (+/-0.0138) for {'C': 100, 'max_iter': 10, 'penalty': 'l1', 'solver': 'saga'}\n",
            "0.9623 (+/-0.0109) for {'C': 100, 'max_iter': 10, 'penalty': 'l2', 'solver': 'saga'}\n",
            "0.9674 (+/-0.0099) for {'C': 100, 'max_iter': 100, 'penalty': 'l1', 'solver': 'saga'}\n",
            "0.9681 (+/-0.0112) for {'C': 100, 'max_iter': 100, 'penalty': 'l2', 'solver': 'saga'}\n",
            "0.9689 (+/-0.0129) for {'C': 100, 'max_iter': 100, 'penalty': 'l1', 'solver': 'saga'}\n",
            "0.9681 (+/-0.0111) for {'C': 100, 'max_iter': 100, 'penalty': 'l2', 'solver': 'saga'}\n",
            "0.9323 (+/-0.0353) for {'C': 1000, 'max_iter': 1, 'penalty': 'l1', 'solver': 'saga'}\n",
            "0.9300 (+/-0.0310) for {'C': 1000, 'max_iter': 1, 'penalty': 'l2', 'solver': 'saga'}\n",
            "0.9629 (+/-0.0254) for {'C': 1000, 'max_iter': 10, 'penalty': 'l1', 'solver': 'saga'}\n",
            "0.9630 (+/-0.0174) for {'C': 1000, 'max_iter': 10, 'penalty': 'l2', 'solver': 'saga'}\n",
            "0.9696 (+/-0.0128) for {'C': 1000, 'max_iter': 100, 'penalty': 'l1', 'solver': 'saga'}\n",
            "0.9689 (+/-0.0129) for {'C': 1000, 'max_iter': 100, 'penalty': 'l2', 'solver': 'saga'}\n",
            "0.9689 (+/-0.0129) for {'C': 1000, 'max_iter': 100, 'penalty': 'l1', 'solver': 'saga'}\n",
            "0.9681 (+/-0.0112) for {'C': 1000, 'max_iter': 100, 'penalty': 'l2', 'solver': 'saga'}\n",
            "0.8565 (+/-0.0144) for {'C': 1, 'max_iter': 1, 'penalty': 'l2', 'solver': 'newton-cg'}\n",
            "0.8565 (+/-0.0144) for {'C': 1, 'max_iter': 1, 'penalty': 'none', 'solver': 'newton-cg'}\n",
            "0.9659 (+/-0.0130) for {'C': 1, 'max_iter': 10, 'penalty': 'l2', 'solver': 'newton-cg'}\n",
            "0.9652 (+/-0.0113) for {'C': 1, 'max_iter': 10, 'penalty': 'none', 'solver': 'newton-cg'}\n",
            "0.9645 (+/-0.0154) for {'C': 1, 'max_iter': 100, 'penalty': 'l2', 'solver': 'newton-cg'}\n",
            "0.9584 (+/-0.0110) for {'C': 1, 'max_iter': 100, 'penalty': 'none', 'solver': 'newton-cg'}\n",
            "0.9645 (+/-0.0154) for {'C': 1, 'max_iter': 100, 'penalty': 'l2', 'solver': 'newton-cg'}\n",
            "0.9584 (+/-0.0110) for {'C': 1, 'max_iter': 100, 'penalty': 'none', 'solver': 'newton-cg'}\n",
            "0.8565 (+/-0.0144) for {'C': 10, 'max_iter': 1, 'penalty': 'l2', 'solver': 'newton-cg'}\n",
            "0.8565 (+/-0.0144) for {'C': 10, 'max_iter': 1, 'penalty': 'none', 'solver': 'newton-cg'}\n",
            "0.9652 (+/-0.0113) for {'C': 10, 'max_iter': 10, 'penalty': 'l2', 'solver': 'newton-cg'}\n",
            "0.9652 (+/-0.0113) for {'C': 10, 'max_iter': 10, 'penalty': 'none', 'solver': 'newton-cg'}\n",
            "0.9630 (+/-0.0134) for {'C': 10, 'max_iter': 100, 'penalty': 'l2', 'solver': 'newton-cg'}\n",
            "0.9584 (+/-0.0110) for {'C': 10, 'max_iter': 100, 'penalty': 'none', 'solver': 'newton-cg'}\n",
            "0.9630 (+/-0.0134) for {'C': 10, 'max_iter': 100, 'penalty': 'l2', 'solver': 'newton-cg'}\n",
            "0.9584 (+/-0.0110) for {'C': 10, 'max_iter': 100, 'penalty': 'none', 'solver': 'newton-cg'}\n",
            "0.8565 (+/-0.0144) for {'C': 100, 'max_iter': 1, 'penalty': 'l2', 'solver': 'newton-cg'}\n",
            "0.8565 (+/-0.0144) for {'C': 100, 'max_iter': 1, 'penalty': 'none', 'solver': 'newton-cg'}\n",
            "0.9659 (+/-0.0120) for {'C': 100, 'max_iter': 10, 'penalty': 'l2', 'solver': 'newton-cg'}\n",
            "0.9652 (+/-0.0113) for {'C': 100, 'max_iter': 10, 'penalty': 'none', 'solver': 'newton-cg'}\n",
            "0.9622 (+/-0.0137) for {'C': 100, 'max_iter': 100, 'penalty': 'l2', 'solver': 'newton-cg'}\n",
            "0.9584 (+/-0.0110) for {'C': 100, 'max_iter': 100, 'penalty': 'none', 'solver': 'newton-cg'}\n",
            "0.9622 (+/-0.0137) for {'C': 100, 'max_iter': 100, 'penalty': 'l2', 'solver': 'newton-cg'}\n",
            "0.9584 (+/-0.0110) for {'C': 100, 'max_iter': 100, 'penalty': 'none', 'solver': 'newton-cg'}\n",
            "0.8565 (+/-0.0144) for {'C': 1000, 'max_iter': 1, 'penalty': 'l2', 'solver': 'newton-cg'}\n",
            "0.8565 (+/-0.0144) for {'C': 1000, 'max_iter': 1, 'penalty': 'none', 'solver': 'newton-cg'}\n",
            "0.9652 (+/-0.0113) for {'C': 1000, 'max_iter': 10, 'penalty': 'l2', 'solver': 'newton-cg'}\n",
            "0.9652 (+/-0.0113) for {'C': 1000, 'max_iter': 10, 'penalty': 'none', 'solver': 'newton-cg'}\n",
            "0.9636 (+/-0.0145) for {'C': 1000, 'max_iter': 100, 'penalty': 'l2', 'solver': 'newton-cg'}\n",
            "0.9584 (+/-0.0110) for {'C': 1000, 'max_iter': 100, 'penalty': 'none', 'solver': 'newton-cg'}\n",
            "0.9636 (+/-0.0145) for {'C': 1000, 'max_iter': 100, 'penalty': 'l2', 'solver': 'newton-cg'}\n",
            "0.9584 (+/-0.0110) for {'C': 1000, 'max_iter': 100, 'penalty': 'none', 'solver': 'newton-cg'}\n",
            "0.8784 (+/-0.0727) for {'C': 1, 'max_iter': 1, 'penalty': 'l2', 'solver': 'sag'}\n",
            "0.9022 (+/-0.0458) for {'C': 1, 'max_iter': 1, 'penalty': 'none', 'solver': 'sag'}\n",
            "0.9555 (+/-0.0237) for {'C': 1, 'max_iter': 10, 'penalty': 'l2', 'solver': 'sag'}\n",
            "0.9585 (+/-0.0136) for {'C': 1, 'max_iter': 10, 'penalty': 'none', 'solver': 'sag'}\n",
            "0.9665 (+/-0.0172) for {'C': 1, 'max_iter': 100, 'penalty': 'l2', 'solver': 'sag'}\n",
            "0.9695 (+/-0.0161) for {'C': 1, 'max_iter': 100, 'penalty': 'none', 'solver': 'sag'}\n",
            "0.9681 (+/-0.0148) for {'C': 1, 'max_iter': 100, 'penalty': 'l2', 'solver': 'sag'}\n",
            "0.9666 (+/-0.0151) for {'C': 1, 'max_iter': 100, 'penalty': 'none', 'solver': 'sag'}\n",
            "0.8983 (+/-0.0391) for {'C': 10, 'max_iter': 1, 'penalty': 'l2', 'solver': 'sag'}\n",
            "0.8957 (+/-0.0491) for {'C': 10, 'max_iter': 1, 'penalty': 'none', 'solver': 'sag'}\n",
            "0.9554 (+/-0.0140) for {'C': 10, 'max_iter': 10, 'penalty': 'l2', 'solver': 'sag'}\n",
            "0.9615 (+/-0.0152) for {'C': 10, 'max_iter': 10, 'penalty': 'none', 'solver': 'sag'}\n",
            "0.9674 (+/-0.0145) for {'C': 10, 'max_iter': 100, 'penalty': 'l2', 'solver': 'sag'}\n",
            "0.9681 (+/-0.0138) for {'C': 10, 'max_iter': 100, 'penalty': 'none', 'solver': 'sag'}\n",
            "0.9674 (+/-0.0145) for {'C': 10, 'max_iter': 100, 'penalty': 'l2', 'solver': 'sag'}\n",
            "0.9666 (+/-0.0115) for {'C': 10, 'max_iter': 100, 'penalty': 'none', 'solver': 'sag'}\n",
            "0.8887 (+/-0.0224) for {'C': 100, 'max_iter': 1, 'penalty': 'l2', 'solver': 'sag'}\n",
            "0.8929 (+/-0.0310) for {'C': 100, 'max_iter': 1, 'penalty': 'none', 'solver': 'sag'}\n",
            "0.9562 (+/-0.0169) for {'C': 100, 'max_iter': 10, 'penalty': 'l2', 'solver': 'sag'}\n",
            "0.9598 (+/-0.0258) for {'C': 100, 'max_iter': 10, 'penalty': 'none', 'solver': 'sag'}\n",
            "0.9651 (+/-0.0183) for {'C': 100, 'max_iter': 100, 'penalty': 'l2', 'solver': 'sag'}\n",
            "0.9628 (+/-0.0151) for {'C': 100, 'max_iter': 100, 'penalty': 'none', 'solver': 'sag'}\n",
            "0.9681 (+/-0.0162) for {'C': 100, 'max_iter': 100, 'penalty': 'l2', 'solver': 'sag'}\n",
            "0.9673 (+/-0.0180) for {'C': 100, 'max_iter': 100, 'penalty': 'none', 'solver': 'sag'}\n",
            "0.8949 (+/-0.0277) for {'C': 1000, 'max_iter': 1, 'penalty': 'l2', 'solver': 'sag'}\n",
            "0.8810 (+/-0.0625) for {'C': 1000, 'max_iter': 1, 'penalty': 'none', 'solver': 'sag'}\n",
            "0.9569 (+/-0.0213) for {'C': 1000, 'max_iter': 10, 'penalty': 'l2', 'solver': 'sag'}\n",
            "0.9630 (+/-0.0084) for {'C': 1000, 'max_iter': 10, 'penalty': 'none', 'solver': 'sag'}\n",
            "0.9651 (+/-0.0181) for {'C': 1000, 'max_iter': 100, 'penalty': 'l2', 'solver': 'sag'}\n",
            "0.9689 (+/-0.0120) for {'C': 1000, 'max_iter': 100, 'penalty': 'none', 'solver': 'sag'}\n",
            "0.9673 (+/-0.0181) for {'C': 1000, 'max_iter': 100, 'penalty': 'l2', 'solver': 'sag'}\n",
            "0.9658 (+/-0.0174) for {'C': 1000, 'max_iter': 100, 'penalty': 'none', 'solver': 'sag'}\n",
            "\n",
            "Detailed classification report:\n",
            "\n",
            "The model is trained on the full development set.\n",
            "The scores are computed on the full evaluation set.\n",
            "\n",
            "              precision    recall  f1-score   support\n",
            "\n",
            "           0     1.0000    1.0000    1.0000        43\n",
            "           1     0.9400    1.0000    0.9691        47\n",
            "           2     0.9787    0.9583    0.9684        48\n",
            "           3     0.9643    1.0000    0.9818        54\n",
            "           4     1.0000    0.9268    0.9620        41\n",
            "           5     0.9762    0.9535    0.9647        43\n",
            "           6     1.0000    0.9787    0.9892        47\n",
            "           7     0.9767    0.9545    0.9655        44\n",
            "           8     1.0000    0.9524    0.9756        42\n",
            "           9     0.8889    0.9756    0.9302        41\n",
            "\n",
            "    accuracy                         0.9711       450\n",
            "   macro avg     0.9725    0.9700    0.9707       450\n",
            "weighted avg     0.9725    0.9711    0.9713       450\n",
            "\n",
            "\n"
          ]
        }
      ]
    },
    {
      "cell_type": "markdown",
      "source": [
        "Gridsearch picked between a bunch a different parameters to find its best model based on percision and recall. Recall had the better model and we will check that out."
      ],
      "metadata": {
        "id": "sIJb0ZFcTSL1"
      }
    },
    {
      "cell_type": "markdown",
      "source": [
        "Lets see what it predicted vs what it was supposed to be\n",
        "\n"
      ],
      "metadata": {
        "id": "YV553nHYkxj9"
      }
    },
    {
      "cell_type": "code",
      "source": [
        "mat = confusion_matrix(y_true, y_pred)\n",
        "sns.heatmap(mat, square=True, annot=True, fmt='d', cbar=False, cmap='cividis')\n",
        "plt.xlabel('predicted number')\n",
        "plt.ylabel('actual number');"
      ],
      "metadata": {
        "id": "6tN-EBfvTPRc",
        "colab": {
          "base_uri": "https://localhost:8080/",
          "height": 285
        },
        "outputId": "c0943b79-49cc-45d5-d65d-ba78f43bc46c"
      },
      "execution_count": null,
      "outputs": [
        {
          "output_type": "display_data",
          "data": {
            "text/plain": [
              "<Figure size 432x288 with 1 Axes>"
            ],
            "image/png": "[encoded data removed]"
          },
          "metadata": {
            "needs_background": "light"
          }
        }
      ]
    },
    {
      "cell_type": "markdown",
      "source": [
        "This model also did very good reaching 97% accuracy."
      ],
      "metadata": {
        "id": "QBAJcFZdSF_E"
      }
    },
    {
      "cell_type": "markdown",
      "metadata": {
        "id": "FrE2NhJGkVxS"
      },
      "source": [
        "## Part 3: Model comparison\n",
        "\n",
        "Compare the two models. Which one did better and by how much?"
      ]
    },
    {
      "cell_type": "markdown",
      "metadata": {
        "id": "WctcxcJKlfva"
      },
      "source": [
        "### Solution"
      ]
    },
    {
      "cell_type": "markdown",
      "source": [
        "When comparing the two models scores the SVM model did a little better. Consistantly getting scores of above 99% where as the mulinomial logistic regession model struggles to get above 98%. Overall for this dataset both models work well but SVM was much more consitent."
      ],
      "metadata": {
        "id": "mcbzbdhSkKnN"
      }
    }
  ]
}